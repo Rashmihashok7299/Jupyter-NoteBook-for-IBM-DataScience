{
    "cells": [
        {
            "cell_type": "markdown",
            "metadata": {},
            "source": "# My Jupyter Notebook on IBM Data Science Experience"
        },
        {
            "cell_type": "markdown",
            "metadata": {},
            "source": "**Rashmi H A**  \nData Scienctist"
        },
        {
            "cell_type": "markdown",
            "metadata": {},
            "source": "_I am interested in data science because I like to analyse nd visualize the data_\n"
        },
        {
            "cell_type": "markdown",
            "metadata": {},
            "source": "### cell5 need to add two given numbers and display the sum"
        },
        {
            "cell_type": "code",
            "execution_count": 7,
            "metadata": {},
            "outputs": [
                {
                    "data": {
                        "text/plain": "30"
                    },
                    "execution_count": 7,
                    "metadata": {},
                    "output_type": "execute_result"
                }
            ],
            "source": "15 + 15\n"
        },
        {
            "cell_type": "markdown",
            "metadata": {},
            "source": "### horizontal rule\n\nThree or more...\n\n---\n\nHyphens\n\n***\n\nAsterisks\n\n___\n\nUnderscores"
        },
        {
            "cell_type": "markdown",
            "metadata": {},
            "source": "### bulleted list\n* bullet list1\n* bullet list2\n* bullet list3"
        },
        {
            "cell_type": "markdown",
            "metadata": {},
            "source": "### numbered list\n1. numbered list1\n1. numbered list2\n1. numbered list3"
        },
        {
            "cell_type": "markdown",
            "metadata": {},
            "source": "### table\n| coffee types   | size          | Rate   |\n| ------------- |:-------------:| -----  :|\n| coffee3       |: 10          :| $170   :|\n"
        },
        {
            "cell_type": "markdown",
            "metadata": {},
            "source": "### hyperlinks\n[Click here to google](https://www.google.com)  \n[To My collage webpage](https://www.vvce.ac.in)"
        },
        {
            "cell_type": "markdown",
            "metadata": {},
            "source": "### images\nInline-style: \n![alt text](https://github.com/adam-p/markdown-here/raw/master/src/common/images/icon48.png \"Logo Title Text 1\")\n\nReference-style: \n![alt text][logo]\n\n[logo]: https://github.com/adam-p/markdown-here/raw/master/src/common/images/icon48.png \"Logo Title Text 2\""
        },
        {
            "cell_type": "markdown",
            "metadata": {},
            "source": "### code or syntax highlighting\nits the one `code` or `Synatax` highlighed."
        },
        {
            "cell_type": "markdown",
            "metadata": {},
            "source": "### block quotes\n\n> Blockquotes are very handy in email to emulate reply text.\n> This line is part of the same quote.\n\nQuote break.\n\n> This is a very long line that will still be quoted properly when it wraps. Oh boy let's keep writing to make sure this is long enough to actually wrap for everyone. Oh, you can *put* **Markdown** into a blockquote. "
        },
        {
            "cell_type": "code",
            "execution_count": null,
            "metadata": {},
            "outputs": [],
            "source": ""
        }
    ],
    "metadata": {
        "kernelspec": {
            "display_name": "Python 3.6",
            "language": "python",
            "name": "python3"
        },
        "language_info": {
            "codemirror_mode": {
                "name": "ipython",
                "version": 3
            },
            "file_extension": ".py",
            "mimetype": "text/x-python",
            "name": "python",
            "nbconvert_exporter": "python",
            "pygments_lexer": "ipython3",
            "version": "3.6.9"
        }
    },
    "nbformat": 4,
    "nbformat_minor": 1
}